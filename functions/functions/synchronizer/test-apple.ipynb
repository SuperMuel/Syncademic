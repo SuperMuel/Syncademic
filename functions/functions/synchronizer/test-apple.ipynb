{
 "cells": [
  {
   "cell_type": "code",
   "execution_count": null,
   "metadata": {},
   "outputs": [],
   "source": [
    "!uv pip install -q caldav"
   ]
  },
  {
   "cell_type": "code",
   "execution_count": null,
   "metadata": {},
   "outputs": [],
   "source": [
    "from dotenv import load_dotenv\n",
    "load_dotenv()\n"
   ]
  },
  {
   "cell_type": "code",
   "execution_count": 8,
   "metadata": {},
   "outputs": [],
   "source": [
    "import caldav\n",
    "from caldav.elements import dav\n",
    "import os\n",
    "# Replace these values with the user's actual credentials:\n",
    "APPLE_ID = os.getenv(\"APPLE_ID\")            # The user's Apple ID email address\n",
    "APPLE_APP_SPECIFIC_PASSWORD = os.getenv(\"APPLE_APP_SPECIFIC_PASSWORD\")  # The generated app-specific password\n",
    "CALDAV_URL = \"https://caldav.icloud.com/\"\n",
    "\n",
    "def authenticate_to_icloud():\n",
    "    \"\"\"\n",
    "    Connects and authenticates to the user's iCloud calendar via CalDAV.\n",
    "    \n",
    "    Returns:\n",
    "        A caldav.DAVClient instance if authentication is successful.\n",
    "    Raises:\n",
    "        Exception if authentication fails.\n",
    "    \"\"\"\n",
    "    try:\n",
    "        # Create a CalDAV client using the provided credentials\n",
    "        client = caldav.DAVClient(\n",
    "            url=CALDAV_URL,\n",
    "            username=APPLE_ID,\n",
    "            password=APPLE_APP_SPECIFIC_PASSWORD\n",
    "        )\n",
    "        \n",
    "        # Retrieve the principal (the authenticated user) for verification\n",
    "        principal = client.principal()\n",
    "        display_name = principal.get_display_name()\n",
    "        print(\"Successfully authenticated as:\", display_name)\n",
    "        return client\n",
    "\n",
    "    except Exception as e:\n",
    "        print(\"Failed to authenticate to iCloud CalDAV:\", e)\n",
    "        raise\n"
   ]
  },
  {
   "cell_type": "code",
   "execution_count": null,
   "metadata": {},
   "outputs": [],
   "source": [
    "client = authenticate_to_icloud()"
   ]
  },
  {
   "cell_type": "code",
   "execution_count": null,
   "metadata": {},
   "outputs": [],
   "source": [
    "client.principal().calendars()[1].\n"
   ]
  },
  {
   "cell_type": "code",
   "execution_count": null,
   "metadata": {},
   "outputs": [],
   "source": [
    "# List calendars associated with the accounts\n",
    "calendars = client.principal().calendars()\n",
    "\n",
    "print(\"Found\", len(calendars), \"calendars:\")\n",
    "for cal in calendars:\n",
    "    print(\"Calendar:\", cal.name)"
   ]
  },
  {
   "cell_type": "code",
   "execution_count": null,
   "metadata": {},
   "outputs": [],
   "source": [
    "# Show some key calendar attributes and methods\n",
    "new_calendar = calendars[0]\n",
    "print(\"Calendar name:\", new_calendar.name)\n",
    "print(\"Calendar URL:\", new_calendar.url)\n",
    "print(\"Calendar ID:\", new_calendar.id)\n",
    "\n",
    "# Show some useful methods\n",
    "print(\"\\nUseful methods:\")\n",
    "print(\"- events() - Get all events\")\n",
    "print(\"- event_by_uid() - Get event by UID\") \n",
    "print(\"- date_search() - Search events by date\")\n",
    "print(\"- save_event() - Save a new event\")\n",
    "print(\"- delete() - Delete the calendar\")"
   ]
  },
  {
   "cell_type": "code",
   "execution_count": null,
   "metadata": {},
   "outputs": [],
   "source": [
    "# Get all events\n",
    "events = new_calendar.events()\n",
    "print(\"Found\", len(events), \"events:\")\n",
    "for event in events:\n",
    "    print(\"Event:\", event.summary)\n",
    "    print(\"Event start:\", event.start)\n",
    "    print(\"Event end:\", event.end)\n",
    "    print(\"Event location:\", event.location)\n",
    "    print(\"Event description:\", event.description)\n"
   ]
  },
  {
   "cell_type": "code",
   "execution_count": null,
   "metadata": {},
   "outputs": [],
   "source": [
    "# create a new event\n",
    "from datetime import datetime, timedelta\n",
    "\n",
    "start = datetime.now()\n",
    "end = start + timedelta(hours=1)\n",
    "\n",
    "start_str = start.strftime(\"%Y%m%dT%H%M%S\")\n",
    "end_str = end.strftime(\"%Y%m%dT%H%M%S\")\n",
    "\n",
    "ical:str = f\"\"\"BEGIN:VCALENDAR\n",
    "VERSION:2.0\n",
    "BEGIN:VEVENT\n",
    "SUMMARY:New Event\n",
    "DTSTART:{start_str}\n",
    "DTEND:{end_str}\n",
    "LOCATION:Home\n",
    "DESCRIPTION:This is a new event\n",
    "END:VEVENT\n",
    "END:VCALENDAR\"\"\"\n",
    "\n",
    "event = new_calendar.save_event(ical)\n",
    "\n",
    "print(\"New event created:\", event)"
   ]
  },
  {
   "cell_type": "code",
   "execution_count": null,
   "metadata": {},
   "outputs": [],
   "source": [
    "# Create a recurring yearly event\n",
    "my_event = new_calendar.save_event(\n",
    "    dtstart=datetime.now(),\n",
    "    dtend=datetime.now() + timedelta(hours=2),\n",
    "    summary=\"Yearly Planning Meeting\",\n",
    ")\n",
    "\n",
    "print(\"Created event:\", my_event)\n"
   ]
  },
  {
   "cell_type": "code",
   "execution_count": null,
   "metadata": {},
   "outputs": [],
   "source": [
    "new_calendar.search(comp_class='event')"
   ]
  },
  {
   "cell_type": "code",
   "execution_count": null,
   "metadata": {},
   "outputs": [],
   "source": [
    "### Create a new calendar\n",
    "try:\n",
    "    # Get the principal (user) object\n",
    "    principal = client.principal()\n",
    "    \n",
    "    # Create new calendar using make_calendar()\n",
    "    new_calendar = principal.make_calendar(name=\"my time table\")\n",
    "    print(f\"New calendar 'my time table' created successfully!\")\n",
    "    \n",
    "    # List available calendars to verify\n",
    "    calendars = principal.calendars()\n",
    "    print(\"\\nAvailable calendars:\")\n",
    "    for cal in calendars:\n",
    "        print(f\" - {cal.name}\")\n",
    "\n",
    "except Exception as e:\n",
    "    print(\"Error creating calendar:\", e)\n",
    "    raise"
   ]
  },
  {
   "cell_type": "code",
   "execution_count": null,
   "metadata": {},
   "outputs": [],
   "source": [
    "new_calendar.id"
   ]
  },
  {
   "cell_type": "code",
   "execution_count": null,
   "metadata": {},
   "outputs": [],
   "source": [
    "new_calendar.parent"
   ]
  },
  {
   "cell_type": "code",
   "execution_count": 72,
   "metadata": {},
   "outputs": [],
   "source": [
    "CUSTOM_PROPERTY = \"X-SYNCADEMIC-ID\"\n",
    "CUSTOM_PROPERTY_VALUE = \"1234567890\""
   ]
  },
  {
   "cell_type": "code",
   "execution_count": null,
   "metadata": {},
   "outputs": [],
   "source": [
    "# Create a new event with custom properties\n",
    "from datetime import datetime, timedelta\n",
    "\n",
    "# Create event start and end times\n",
    "start = datetime.now()\n",
    "end = start + timedelta(hours=1)\n",
    "\n",
    "# Format dates in iCalendar format\n",
    "start_str = start.strftime(\"%Y%m%dT%H%M%SZ\")\n",
    "end_str = end.strftime(\"%Y%m%dT%H%M%SZ\")\n",
    "\n",
    "# Create iCalendar string with custom X-property\n",
    "ical = f\"\"\"BEGIN:VCALENDAR\n",
    "VERSION:2.0\n",
    "BEGIN:VEVENT\n",
    "SUMMARY:Event with Custom Property\n",
    "DTSTART:{start_str}\n",
    "DTEND:{end_str}\n",
    "LOCATION:Office\n",
    "DESCRIPTION:Event with custom X-property\n",
    "{CUSTOM_PROPERTY}:{CUSTOM_PROPERTY_VALUE}\n",
    "END:VEVENT\n",
    "END:VCALENDAR\"\"\"\n",
    "\n",
    "# Save the event\n",
    "event = new_calendar.save_event(ical)\n",
    "print(\"Created event with custom properties:\", event)\n",
    "\n",
    "\n",
    "from datetime import timezone\n",
    "\n",
    "\n",
    "new_event = new_calendar.save_event(\n",
    "        # Our custom property:\n",
    "        **{CUSTOM_PROPERTY: CUSTOM_PROPERTY_VALUE},\n",
    "        summary=\"Custom property as keyword argument\",\n",
    "        dtstart=datetime(2025, 1, 10, 9, 0, 0, tzinfo=timezone.utc),\n",
    "        dtend=datetime(2025, 1, 10, 10, 0, 0, tzinfo=timezone.utc),\n",
    "    )\n",
    "\n",
    "# Read back the event and its properties\n",
    "events = new_calendar.events()\n",
    "for e in events:\n",
    "    print(\"\\nEvent details:\")\n",
    "    print(f\"Summary: {e.instance.vevent.summary.value}\")\n",
    "    print(f\"Start: {e.instance.vevent.dtstart.value}\")\n",
    "    print(f\"End: {e.instance.vevent.dtend.value}\")\n",
    "    # print(f\"Location: {e.instance.vevent.location.value}\")\n",
    "    # print(f\"Description: {e.instance.vevent.description.value}\")\n",
    "    \n",
    "    # Read custom X-properties\n",
    "    for prop in e.instance.vevent.contents.values():\n",
    "        if isinstance(prop, list):\n",
    "            for p in prop:\n",
    "                if hasattr(p, 'name') and p.name.startswith('X-'):\n",
    "                    print(f\"{p.name}: {p.value}\")"
   ]
  },
  {
   "cell_type": "markdown",
   "metadata": {},
   "source": [
    "###  Finding events by custom property"
   ]
  },
  {
   "cell_type": "code",
   "execution_count": null,
   "metadata": {},
   "outputs": [],
   "source": [
    "from caldav.elements.cdav import Filter, CompFilter, PropFilter, TextMatch\n",
    "\n",
    "def find_my_events(calendar: caldav.Calendar) -> list[caldav.Event]:\n",
    "    \"\"\"\n",
    "    Searches the calendar for events that have `X-SYNCADEMIC-ID: 1234567890`.\n",
    "    \"\"\"\n",
    "    # Build a property filter: X-SYNCADEMIC-ID must match \"1234567890\"\n",
    "    prop_filter = PropFilter(CUSTOM_PROPERTY)\n",
    "    prop_filter.append(TextMatch(CUSTOM_PROPERTY_VALUE))\n",
    "    \n",
    "    # Inside a VEVENT or VTODO compfilter\n",
    "    comp_filter = CompFilter(\"VEVENT\")\n",
    "    comp_filter.append(prop_filter)\n",
    "\n",
    "    # Wrap everything in a top-level Filter\n",
    "    filters = Filter()\n",
    "    filters.append(comp_filter)\n",
    "\n",
    "    # Now pass that filter to search()\n",
    "    return calendar.search(filters=filters)\n",
    "\n",
    "my_events = find_my_events(new_calendar)\n",
    "print(my_events)\n"
   ]
  },
  {
   "cell_type": "markdown",
   "metadata": {},
   "source": [
    "### Getting all events, then filtering by custom property"
   ]
  },
  {
   "cell_type": "code",
   "execution_count": null,
   "metadata": {},
   "outputs": [],
   "source": [
    "all_events = new_calendar.events()  # or use .search()\n",
    "for event in all_events:\n",
    "    # event.load()  # ensure event.data is populated\n",
    "    if CUSTOM_PROPERTY_VALUE in event.data:\n",
    "        print(event.instance.vevent.summary.value)\n",
    "    else:\n",
    "        print(\"This event does not have the custom property\")\n"
   ]
  },
  {
   "cell_type": "markdown",
   "metadata": {},
   "source": [
    "### Using categories (not working)\n"
   ]
  },
  {
   "cell_type": "code",
   "execution_count": null,
   "metadata": {},
   "outputs": [],
   "source": [
    "# Creating:\n",
    "new_event = new_calendar.save_event(\n",
    "    categories=[\"syncademic-1234567890\"],\n",
    "    summary=\"Demo Event from My Service\",\n",
    "    dtstart=datetime(2025, 1, 10, 9, 0, 0, tzinfo=timezone.utc),\n",
    "    dtend=datetime(2025, 1, 10, 10, 0, 0, tzinfo=timezone.utc),\n",
    ")\n",
    "\n",
    "\n",
    "# Searching for all events with that category, then deleting them:\n",
    "my_events = new_calendar.search(event=True, category=\"syncademic-1234567890\")\n",
    "if not my_events:\n",
    "    print(\"No events found with that category\")\n",
    "else:\n",
    "    for evt in my_events:\n",
    "        print(evt)\n",
    "        # evt.delete()\n"
   ]
  },
  {
   "cell_type": "code",
   "execution_count": null,
   "metadata": {},
   "outputs": [],
   "source": []
  },
  {
   "cell_type": "markdown",
   "metadata": {},
   "source": [
    "### Deleting the calendar"
   ]
  },
  {
   "cell_type": "code",
   "execution_count": null,
   "metadata": {},
   "outputs": [],
   "source": [
    "new_calendar.delete()\n",
    "print(\"Calendar deleted\")\n",
    "\n",
    "# list the calendars to check if the new calendar is there\n",
    "calendars = principal.calendars()\n",
    "print(\"\\nAvailable calendars:\")\n",
    "for cal in calendars:\n",
    "    print(f\" - {cal.name}\")\n"
   ]
  },
  {
   "cell_type": "code",
   "execution_count": null,
   "metadata": {},
   "outputs": [],
   "source": [
    "with caldav.DAVClient(url=url, username=username, password=password) as client:\n",
    "    my_principal = client.principal()\n",
    "    ..."
   ]
  }
 ],
 "metadata": {
  "kernelspec": {
   "display_name": ".venv",
   "language": "python",
   "name": "python3"
  },
  "language_info": {
   "codemirror_mode": {
    "name": "ipython",
    "version": 3
   },
   "file_extension": ".py",
   "mimetype": "text/x-python",
   "name": "python",
   "nbconvert_exporter": "python",
   "pygments_lexer": "ipython3",
   "version": "3.11.10"
  }
 },
 "nbformat": 4,
 "nbformat_minor": 2
}
